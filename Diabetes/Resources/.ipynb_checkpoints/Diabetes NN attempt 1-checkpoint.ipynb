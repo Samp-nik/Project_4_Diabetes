{
 "cells": [
  {
   "cell_type": "code",
   "execution_count": null,
   "id": "b8922561",
   "metadata": {},
   "outputs": [],
   "source": [
    "from sklearn.model_selection import train_test_split\n",
    "from sklearn.preprocessing import StandardScaler\n",
    "from sklearn.metrics import classification_report\n",
    "import pandas as pd\n",
    "import tensorflow as tf\n",
    "from pathlib import Path\n",
    "\n",
    "#  Import and read the charity_data.csv.\n",
    "beetus_path = Path(\"diabetes_binary_5050split_health_indicators_BRFSS2015.csv\")\n",
    "beetus_df = pd.read_csv(beetus_path)\n",
    "beetus_df.head()"
   ]
  },
  {
   "cell_type": "code",
   "execution_count": 27,
   "id": "a2de3921",
   "metadata": {},
   "outputs": [],
   "source": [
    "beethealth_df=beetus_df[['Diabetes_binary', 'HighBP', 'HighChol', 'CholCheck', 'Stroke', 'HeartDiseaseorAttack']].copy()\n",
    "#beetenviro_df=beetus_df[['Smoker', 'PhysActivity', 'Fruits', 'Veggies', 'HvyAlcoholConsump', 'AnyHealthcare']].copy()\n",
    "#beetgonscale_df=beetus_df[['BMI', 'GenHlth', 'MentHlth', 'PhysHlth', 'Age', 'Education', 'Income']].copy()"
   ]
  },
  {
   "cell_type": "code",
   "execution_count": 28,
   "id": "44accf61",
   "metadata": {},
   "outputs": [
    {
     "data": {
      "text/html": [
       "<div>\n",
       "<style scoped>\n",
       "    .dataframe tbody tr th:only-of-type {\n",
       "        vertical-align: middle;\n",
       "    }\n",
       "\n",
       "    .dataframe tbody tr th {\n",
       "        vertical-align: top;\n",
       "    }\n",
       "\n",
       "    .dataframe thead th {\n",
       "        text-align: right;\n",
       "    }\n",
       "</style>\n",
       "<table border=\"1\" class=\"dataframe\">\n",
       "  <thead>\n",
       "    <tr style=\"text-align: right;\">\n",
       "      <th></th>\n",
       "      <th>Diabetes_binary</th>\n",
       "      <th>HighBP</th>\n",
       "      <th>HighChol</th>\n",
       "      <th>CholCheck</th>\n",
       "      <th>Stroke</th>\n",
       "      <th>HeartDiseaseorAttack</th>\n",
       "    </tr>\n",
       "  </thead>\n",
       "  <tbody>\n",
       "    <tr>\n",
       "      <th>0</th>\n",
       "      <td>0.0</td>\n",
       "      <td>1.0</td>\n",
       "      <td>0.0</td>\n",
       "      <td>1.0</td>\n",
       "      <td>0.0</td>\n",
       "      <td>0.0</td>\n",
       "    </tr>\n",
       "    <tr>\n",
       "      <th>1</th>\n",
       "      <td>0.0</td>\n",
       "      <td>1.0</td>\n",
       "      <td>1.0</td>\n",
       "      <td>1.0</td>\n",
       "      <td>1.0</td>\n",
       "      <td>0.0</td>\n",
       "    </tr>\n",
       "    <tr>\n",
       "      <th>2</th>\n",
       "      <td>0.0</td>\n",
       "      <td>0.0</td>\n",
       "      <td>0.0</td>\n",
       "      <td>1.0</td>\n",
       "      <td>0.0</td>\n",
       "      <td>0.0</td>\n",
       "    </tr>\n",
       "    <tr>\n",
       "      <th>3</th>\n",
       "      <td>0.0</td>\n",
       "      <td>1.0</td>\n",
       "      <td>1.0</td>\n",
       "      <td>1.0</td>\n",
       "      <td>0.0</td>\n",
       "      <td>0.0</td>\n",
       "    </tr>\n",
       "    <tr>\n",
       "      <th>4</th>\n",
       "      <td>0.0</td>\n",
       "      <td>0.0</td>\n",
       "      <td>0.0</td>\n",
       "      <td>1.0</td>\n",
       "      <td>0.0</td>\n",
       "      <td>0.0</td>\n",
       "    </tr>\n",
       "  </tbody>\n",
       "</table>\n",
       "</div>"
      ],
      "text/plain": [
       "   Diabetes_binary  HighBP  HighChol  CholCheck  Stroke  HeartDiseaseorAttack\n",
       "0              0.0     1.0       0.0        1.0     0.0                   0.0\n",
       "1              0.0     1.0       1.0        1.0     1.0                   0.0\n",
       "2              0.0     0.0       0.0        1.0     0.0                   0.0\n",
       "3              0.0     1.0       1.0        1.0     0.0                   0.0\n",
       "4              0.0     0.0       0.0        1.0     0.0                   0.0"
      ]
     },
     "execution_count": 28,
     "metadata": {},
     "output_type": "execute_result"
    }
   ],
   "source": [
    "beethealth_df.head()\n",
    "#beetenviro_df.head()\n",
    "#beetgonscale_df.head()"
   ]
  },
  {
   "cell_type": "code",
   "execution_count": 29,
   "id": "65458e62",
   "metadata": {},
   "outputs": [
    {
     "name": "stderr",
     "output_type": "stream",
     "text": [
      "C:\\Users\\lpfro\\AppData\\Local\\Temp\\ipykernel_9844\\1122488078.py:5: FutureWarning: In a future version of pandas all arguments of DataFrame.drop except for the argument 'labels' will be keyword-only.\n",
      "  X = beetus_df.drop(['Diabetes_binary'],1).values\n"
     ]
    }
   ],
   "source": [
    "y = beethealth_df['Diabetes_binary'].values\n",
    "#X = beethealth_df.drop(['Diabetes_binary'],1).values\n",
    "#X = beetenviro_df.values\n",
    "#X = beetgonscale_df.values\n",
    "X = beetus_df.drop(['Diabetes_binary'],1).values\n",
    "\n",
    "X_train, X_test, y_train, y_test = train_test_split(X, y, random_state=78)"
   ]
  },
  {
   "cell_type": "code",
   "execution_count": 30,
   "id": "ad6ba9fe",
   "metadata": {},
   "outputs": [],
   "source": [
    "# Create a StandardScaler instances\n",
    "scaler = StandardScaler()\n",
    "\n",
    "# Fit the StandardScaler\n",
    "X_scaler = scaler.fit(X_train)\n",
    "\n",
    "# Scale the data\n",
    "X_train_scaled = X_scaler.transform(X_train)\n",
    "X_test_scaled = X_scaler.transform(X_test)"
   ]
  },
  {
   "cell_type": "code",
   "execution_count": 31,
   "id": "dbb61083",
   "metadata": {},
   "outputs": [
    {
     "name": "stdout",
     "output_type": "stream",
     "text": [
      "Model: \"sequential_2\"\n",
      "_________________________________________________________________\n",
      " Layer (type)                Output Shape              Param #   \n",
      "=================================================================\n",
      " dense_8 (Dense)             (None, 64)                1408      \n",
      "                                                                 \n",
      " dense_9 (Dense)             (None, 32)                2080      \n",
      "                                                                 \n",
      " dense_10 (Dense)            (None, 16)                528       \n",
      "                                                                 \n",
      " dense_11 (Dense)            (None, 1)                 17        \n",
      "                                                                 \n",
      "=================================================================\n",
      "Total params: 4033 (15.75 KB)\n",
      "Trainable params: 4033 (15.75 KB)\n",
      "Non-trainable params: 0 (0.00 Byte)\n",
      "_________________________________________________________________\n"
     ]
    }
   ],
   "source": [
    "# Define the model - deep neural net\n",
    "number_input_features = len(X_train[0])\n",
    "hidden_nodes_layer1 = 64\n",
    "hidden_nodes_layer2 = 32\n",
    "hidden_nodes_layer3 = 16\n",
    "hidden_nodes_layer4 = 8\n",
    "beet_nn = tf.keras.models.Sequential()\n",
    "\n",
    "# First hidden layer\n",
    "beet_nn.add(\n",
    "    tf.keras.layers.Dense(units=hidden_nodes_layer1, input_dim=number_input_features, activation=\"softmax\")\n",
    ")\n",
    "\n",
    "# Second hidden layer\n",
    "beet_nn.add(tf.keras.layers.Dense(units=hidden_nodes_layer2, activation=\"softmax\"))\n",
    "\n",
    "# Third hidden layer\n",
    "beet_nn.add(tf.keras.layers.Dense(units=hidden_nodes_layer3, activation=\"softmax\"))\n",
    "\n",
    "# Output layer\n",
    "beet_nn.add(tf.keras.layers.Dense(units=1, activation=\"sigmoid\"))\n",
    "\n",
    "# Check the structure of the model\n",
    "beet_nn.summary()"
   ]
  },
  {
   "cell_type": "code",
   "execution_count": 32,
   "id": "36f1ee4f",
   "metadata": {},
   "outputs": [],
   "source": [
    "#Compiling\n",
    "beet_nn.compile(loss=\"binary_crossentropy\", optimizer=\"adam\", metrics=[\"accuracy\"])"
   ]
  },
  {
   "cell_type": "code",
   "execution_count": 33,
   "id": "358d9b93",
   "metadata": {
    "scrolled": true
   },
   "outputs": [
    {
     "name": "stdout",
     "output_type": "stream",
     "text": [
      "Epoch 1/25\n",
      "1657/1657 [==============================] - 5s 2ms/step - loss: 0.6214 - accuracy: 0.7046\n",
      "Epoch 2/25\n",
      "1657/1657 [==============================] - 4s 2ms/step - loss: 0.5273 - accuracy: 0.7527\n",
      "Epoch 3/25\n",
      "1657/1657 [==============================] - 4s 3ms/step - loss: 0.5134 - accuracy: 0.7531\n",
      "Epoch 4/25\n",
      "1657/1657 [==============================] - 4s 2ms/step - loss: 0.5080 - accuracy: 0.7544\n",
      "Epoch 5/25\n",
      "1657/1657 [==============================] - 4s 2ms/step - loss: 0.5047 - accuracy: 0.7561\n",
      "Epoch 6/25\n",
      "1657/1657 [==============================] - 4s 2ms/step - loss: 0.5028 - accuracy: 0.7556\n",
      "Epoch 7/25\n",
      "1657/1657 [==============================] - 4s 3ms/step - loss: 0.5012 - accuracy: 0.7579\n",
      "Epoch 8/25\n",
      "1657/1657 [==============================] - 5s 3ms/step - loss: 0.5001 - accuracy: 0.7569\n",
      "Epoch 9/25\n",
      "1657/1657 [==============================] - 5s 3ms/step - loss: 0.4990 - accuracy: 0.7584\n",
      "Epoch 10/25\n",
      "1657/1657 [==============================] - 5s 3ms/step - loss: 0.4983 - accuracy: 0.7585\n",
      "Epoch 11/25\n",
      "1657/1657 [==============================] - 5s 3ms/step - loss: 0.4975 - accuracy: 0.7584\n",
      "Epoch 12/25\n",
      "1657/1657 [==============================] - 5s 3ms/step - loss: 0.4969 - accuracy: 0.7585\n",
      "Epoch 13/25\n",
      "1657/1657 [==============================] - 4s 3ms/step - loss: 0.4961 - accuracy: 0.7589\n",
      "Epoch 14/25\n",
      "1657/1657 [==============================] - 4s 3ms/step - loss: 0.4956 - accuracy: 0.7583\n",
      "Epoch 15/25\n",
      "1657/1657 [==============================] - 4s 3ms/step - loss: 0.4951 - accuracy: 0.7585\n",
      "Epoch 16/25\n",
      "1657/1657 [==============================] - 4s 3ms/step - loss: 0.4946 - accuracy: 0.7588\n",
      "Epoch 17/25\n",
      "1657/1657 [==============================] - 5s 3ms/step - loss: 0.4942 - accuracy: 0.7591\n",
      "Epoch 18/25\n",
      "1657/1657 [==============================] - 4s 3ms/step - loss: 0.4937 - accuracy: 0.7592\n",
      "Epoch 19/25\n",
      "1657/1657 [==============================] - 4s 3ms/step - loss: 0.4930 - accuracy: 0.7592\n",
      "Epoch 20/25\n",
      "1657/1657 [==============================] - 4s 3ms/step - loss: 0.4929 - accuracy: 0.7593\n",
      "Epoch 21/25\n",
      "1657/1657 [==============================] - 5s 3ms/step - loss: 0.4924 - accuracy: 0.7595\n",
      "Epoch 22/25\n",
      "1657/1657 [==============================] - 4s 3ms/step - loss: 0.4921 - accuracy: 0.7595\n",
      "Epoch 23/25\n",
      "1657/1657 [==============================] - 4s 3ms/step - loss: 0.4918 - accuracy: 0.7595\n",
      "Epoch 24/25\n",
      "1657/1657 [==============================] - 4s 2ms/step - loss: 0.4913 - accuracy: 0.7610\n",
      "Epoch 25/25\n",
      "1657/1657 [==============================] - 4s 3ms/step - loss: 0.4913 - accuracy: 0.7601\n"
     ]
    }
   ],
   "source": [
    "#training model\n",
    "fit_model = beet_nn.fit(X_train_scaled,y_train,epochs=25)"
   ]
  },
  {
   "cell_type": "code",
   "execution_count": 34,
   "id": "d320f03d",
   "metadata": {},
   "outputs": [
    {
     "name": "stdout",
     "output_type": "stream",
     "text": [
      "553/553 - 1s - loss: 0.5057 - accuracy: 0.7507 - 1s/epoch - 2ms/step\n",
      "Loss: 0.5057176351547241, Accuracy: 0.7507497072219849\n"
     ]
    }
   ],
   "source": [
    "model_loss, model_accuracy = beet_nn.evaluate(X_test_scaled,y_test,verbose=2)\n",
    "print(f\"Loss: {model_loss}, Accuracy: {model_accuracy}\")"
   ]
  },
  {
   "cell_type": "code",
   "execution_count": 36,
   "id": "44b94c0e",
   "metadata": {},
   "outputs": [
    {
     "name": "stdout",
     "output_type": "stream",
     "text": [
      "553/553 [==============================] - 1s 2ms/step\n",
      "[[0.532443  ]\n",
      " [0.532443  ]\n",
      " [0.5324433 ]\n",
      " ...\n",
      " [0.5324429 ]\n",
      " [0.9115976 ]\n",
      " [0.53244877]]\n",
      "              precision    recall  f1-score   support\n",
      "\n",
      "         0.0       0.80      0.00      0.00      8835\n",
      "         1.0       0.50      1.00      0.67      8838\n",
      "\n",
      "    accuracy                           0.50     17673\n",
      "   macro avg       0.65      0.50      0.33     17673\n",
      "weighted avg       0.65      0.50      0.33     17673\n",
      "\n"
     ]
    }
   ],
   "source": [
    "y_pred = beet_nn.predict(X_test)\n",
    "y_pred_classes = (y_pred > 0.5).astype(int)\n",
    "report = classification_report(y_test, y_pred_classes)\n",
    "print(y_pred)\n",
    "print(report)"
   ]
  },
  {
   "cell_type": "code",
   "execution_count": null,
   "id": "fa93fbbe",
   "metadata": {},
   "outputs": [],
   "source": []
  }
 ],
 "metadata": {
  "kernelspec": {
   "display_name": "Python 3 (ipykernel)",
   "language": "python",
   "name": "python3"
  },
  "language_info": {
   "codemirror_mode": {
    "name": "ipython",
    "version": 3
   },
   "file_extension": ".py",
   "mimetype": "text/x-python",
   "name": "python",
   "nbconvert_exporter": "python",
   "pygments_lexer": "ipython3",
   "version": "3.10.9"
  }
 },
 "nbformat": 4,
 "nbformat_minor": 5
}
